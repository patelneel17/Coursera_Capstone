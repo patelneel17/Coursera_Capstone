{
 "cells": [
  {
   "cell_type": "markdown",
   "metadata": {},
   "source": [
    " <h1 align=center><font size = 6>Where & What Investment in Mobile County, Alabama Will Yeild Maximum Return on Investment (ROI)?</font></h1>\n",
    " <h1 align = right><font size = 2>Created By - Neel Patel</font></h1>"
   ]
  },
  {
   "cell_type": "markdown",
   "metadata": {},
   "source": [
    "## Table of Contents\n",
    "\n",
    "<div class=\"alert alert-block alert-info\" style=\"margin-top: 20px\">\n",
    "\n",
    "<font size = 3>\n",
    "\n",
    "1. <a href=\"#item1\">Introduction/Business Problem</a>\n",
    "2. <a href=\"#item2\">Data</a>\n",
    "3. <a href=\"#item3\">Methodology</a>\n",
    "4. <a href=\"#item4\">Analysis</a>\n",
    "5. <a href=\"#item5\">Conclusion</a>\n",
    "6. <a href=\"#item6\">References</a>\n",
    "\n",
    "    </font>\n",
    "    </div>"
   ]
  },
  {
   "cell_type": "markdown",
   "metadata": {},
   "source": [
    "## 1. Introduction/Business Problem"
   ]
  },
  {
   "cell_type": "markdown",
   "metadata": {},
   "source": [
    "#### 1.1 Background   \n",
    "   Mobile county is the second most populous county located in the southwestern corner of the U.S. state of Alabama. It is home to the 7th largest (by tonnage) port in the United States and it has been an integral part of regions economy. In the last decade, Mobile county has become home to Airbus final assembly line, Amazon sorting facility, WalMart distributing to name a few, which has led to influx of residents. The county is also home to two universities, a private and a community college and draws people from all walks of life including professionals, college students and tourists (the county is known for it's Mardi Gras origins and beaches).     \n",
    "\n",
    "#### 1.2 Business Problem\n",
    "   In the recent past, the county has attracted many investors from around the world and they would like to know which type of investment will be ideal in each neighborhood. The following analysis aims to explore the neighborhoods of Mobile county and determine ideal investment type in each neighborhood based on the existing trends.      "
   ]
  },
  {
   "cell_type": "markdown",
   "metadata": {},
   "source": [
    "## 2. Data"
   ]
  },
  {
   "cell_type": "markdown",
   "metadata": {},
   "source": [
    "#### 2.1 Data Sources\n",
    "To execute the aforementioned idea, a dataset (base dataset)containing borough, neighborhood, postal code and geographical coordinates (for borough) along with Foursquare location data was used [1]. And a dataset (coordinate dataset) containing postal code, latitude and longitude information was used to acquire venues from Foursquare [2]. In the base dataset the neighborhoods are defined by multiple listing service zones (MLS), a measure used by local realtors in the real estate community. Whereas, the boroughs are defined by the cities in the county and the geographical coordinates represents each neighborhood. \n",
    "\n",
    "Additionally, the Foursquare data was used to explore each borough and neighborhood in Mobile county [3]. An in-built function 'Explore' was used to get top venues in each clusters and then develop clusters of top venues (grouped by neighborhood) using k-means machine learning algorithm.\n",
    "\n",
    "<a><img src=\"f1.png\" width = 1000, align = \"center\"></a>    \n",
    "<h1 align =center><font size =1>Figure 1: First 5 samples from base dataset.</font></h1>\n",
    "\n",
    "#### 2.2 Data Preparation\n",
    "The base dataset was downloaded and converted into pandas dataframe (figure 1). Next, unwanted features and samples with missing value were dropped and features were renamed for further analysis. There were few issues with the reading of raw data. Column, 'Borough' had zone numbers and column: 'Postal Code' was read as a float type. After fixing the issues, a final check for base dataset was done to check for outliers. And the coordinate dataset was downloaded and converted into pandas dataframe before merging with the base dataset to get desired dataframe (figure 2).\n",
    "\n",
    "\n",
    "<a><img src=\"f2.png\" width = 1000, align = \"center\"></a>\n",
    "<h1 align =center><font size =1>Figure 2: First 5 samples from merged dataset that is used for analysis.</font></h1>"
   ]
  },
  {
   "cell_type": "markdown",
   "metadata": {},
   "source": [
    "## 3. Methodology"
   ]
  },
  {
   "cell_type": "markdown",
   "metadata": {},
   "source": [
    "First, all the required dependencies and libraries were downloaded and imported to run the python scripts. The base dataset (figure 1) was accessed/read from GitHub repository, which was used as a database for this project. Second, the base dataset was cleaned and merged with coordinate dataset as mentioned in data preparation step. A map was generated using folium library to visualize mobile county and the 'Boroughs' were superimposed on the map using latitude and longitude coordinates (figure 3). \n",
    "\n",
    "\n",
    "<a><img src=\"f3.png\" width = 1000, align = \"center\"></a>\n",
    "<h1 align =center><font size =1>Figure 3: A map showing 'Boroughs' in Mobile county.</font></h1>\n",
    "\n",
    "Additionally, the Foursquare API was used to get maximum 100 nearby venues within a radius of 10000 meters of each 'Borough'. The resultant venues (figure 4) were reflective of the tureness of latitude and longitude information passed on to Foursquare and the information in the Foursquare database. Further, 'one hot encoding' technique was used to determine frequency of each venue in each neighborhood and top 10 venues were generated for each neighborhood.\n",
    "\n",
    "\n",
    "<a><img src=\"f4.png\" width = 1000, align = \"center\"></a>\n",
    "<h1 align =center><font size =1>Figure 4: First 5 samples of venues data frame generated using Foursquare.</font></h1>\n",
    "\n",
    "Next, the resultant data was modeled using _k-means_ algorithm to clusters the 'Boroughs'. The resultant clusters were then mapped (figure 5) using folium library and each cluster was further analyzed to infer insights. Lastly, within each cluster, the 'Boroughs' were grouped to determine frequency of each venue type (based on top 10 venues).\n",
    "\n",
    "\n",
    "<a><img src=\"f5.png\" width = 1000, align = \"center\"></a> \n",
    "<h1 align =center><font size =1>Figure 5: A map showing resultant clusters formed using k-means algorithm.</font></h1>"
   ]
  },
  {
   "cell_type": "markdown",
   "metadata": {},
   "source": [
    "## 4. Analysis"
   ]
  },
  {
   "cell_type": "markdown",
   "metadata": {},
   "source": [
    "To infer insights into the results of the 5 clusters formed using _k-means_, the cluster map was compared with the population density data (figure 6)[4] before grouping each clusters by the 'Boroughs' (Note: The number of venues limit and search radius were determined based on the local knowledge of the area). \n",
    "\n",
    "\n",
    "<a><img src=\"pop_density.png\" width = 1000, align = \"center\"></a>\n",
    "<h1 align =center><font size =1>Figure 6: A map showing population density in mobile county.</font></h1>\n",
    "\n",
    "Analysis of all 5 Clusters along with the population density data (figure )indicated that Cluster 0 offered ideal landscape for investment. Further segmentation of cluster 0 showed that the 'Borough' of Mobile is the center point of the county with at-least 5 locations per venue type (figure 7). Hence, other 'Boroughs' in cluster 0 should be targeted for investment. However, Mobile should be not discarded before gathering additional details such as; are people from neighboring 'Boroughs' to Mobile for leisure? or does Mobile have corporate offices of all the industries and so on (This analysis was out of the scope of this project). Lastly, it is also important to consider other factors like population, real estate prices etc. along with specific city laws for each venue type.\n",
    "\n",
    "\n",
    "<a><img src=\"f7.png\" width = 1000, align = \"center\"></a>\n",
    "<h1 align =center><font size =1>Figure 7: Number of locations by venue type in Mobile 'Borough'.</font></h1>"
   ]
  },
  {
   "cell_type": "markdown",
   "metadata": {},
   "source": [
    "## 5. Conclusion"
   ]
  },
  {
   "cell_type": "markdown",
   "metadata": {},
   "source": [
    "In this study, venues were explored using location data and Foursquare explore function to form clusters based on venue type. The location data was grouped based on postal code and a dataset containing 'Borough', neighborhood, postal code and latitude/longitude information was prepared. A _k-means_ clustering algorithm model was built to form clusters and infer insights into each neighborhood. These clusters can be very useful in helping investors in many ways. For example, it could help identify potential 'Borough', that will yield maximum ROI in Mobile county."
   ]
  },
  {
   "cell_type": "markdown",
   "metadata": {},
   "source": [
    "## 6. References"
   ]
  },
  {
   "cell_type": "markdown",
   "metadata": {},
   "source": [
    "##### 1. https://www.southalabama.edu/colleges/mcob/creed/ \n",
    "##### 2. https://bit.ly/3fWQBW2\n",
    "##### 3. https://developer.foursquare.com\n",
    "##### 4. https://statisticalatlas.com/metro-area/Alabama/Mobile/Population#data-map/county-subdivision"
   ]
  }
 ],
 "metadata": {
  "kernelspec": {
   "display_name": "Python",
   "language": "python",
   "name": "conda-env-python-py"
  },
  "language_info": {
   "codemirror_mode": {
    "name": "ipython",
    "version": 3
   },
   "file_extension": ".py",
   "mimetype": "text/x-python",
   "name": "python",
   "nbconvert_exporter": "python",
   "pygments_lexer": "ipython3",
   "version": "3.6.10"
  }
 },
 "nbformat": 4,
 "nbformat_minor": 4
}
