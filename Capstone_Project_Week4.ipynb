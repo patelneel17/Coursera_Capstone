{
 "cells": [
  {
   "cell_type": "markdown",
   "metadata": {},
   "source": [
    " <h1 align=center><font size = 6>Where & What Investment in Mobile County, Alabama Will Yeild Maximum Return on Investment (ROI)?</font></h1>\n",
    " <h1 align = right><font size = 2>Created By - Neel Patel</font></h1>"
   ]
  },
  {
   "cell_type": "markdown",
   "metadata": {},
   "source": [
    "## Table of Contents\n",
    "\n",
    "<div class=\"alert alert-block alert-info\" style=\"margin-top: 20px\">\n",
    "\n",
    "<font size = 3>\n",
    "\n",
    "1. <a href=\"#item1\">Introduction/Business Problem</a>\n",
    "\n",
    "2. <a href=\"#item2\">Data Description</a>\n",
    "\n",
    "</font>\n",
    "</div>"
   ]
  },
  {
   "cell_type": "markdown",
   "metadata": {},
   "source": [
    "## 1. Introduction/Business Problem"
   ]
  },
  {
   "cell_type": "markdown",
   "metadata": {},
   "source": [
    "   In the last decade, Mobile county has become home to Airbus final assembly line, Amazon sorting facility, WalMart distributing to name a few, which has led to influx of residents. The county is also home to two universities, a private and a community college and draws people from all walks of life including professionals, college students and tourists (the county is known for it's Mardi Gras origins and beaches). Hence, in the recent past, the county has attracted many investors from around the world and they would like to know which type of investment will be ideal in each neighborhood.\n",
    "\n",
    "   The following analysis will explore the neighborhoods of Mobile county and determine ideal investment type in each neighborhood based on the existing trends.      "
   ]
  },
  {
   "cell_type": "markdown",
   "metadata": {},
   "source": [
    "## 2. Data"
   ]
  },
  {
   "cell_type": "markdown",
   "metadata": {},
   "source": [
    "To execute the aforementioned idea, a dataset (base dataset) containing borough, neighborhood and geographical coordinates along with Foursqaure location data will be used. In the base dataset the boroughs are defined by multiple listing service zones (MLS), a measure used by local realtors in the real estate community. Whereas, the neighborhoods are defined by the cities in the county and the geographical coordinates represents each neighborhood. \n",
    "\n",
    "Additionally, the Foursqaure data will be used to explore each borough and neighborhood in Mobile county. An in-built function 'Explore' will be used to get top venues in each clusters and then develop clusters of top venues (grouped by neighborhood) using k-means machine learning algorithm.  "
   ]
  },
  {
   "cell_type": "code",
   "execution_count": null,
   "metadata": {},
   "outputs": [],
   "source": []
  }
 ],
 "metadata": {
  "kernelspec": {
   "display_name": "Python",
   "language": "python",
   "name": "conda-env-python-py"
  },
  "language_info": {
   "codemirror_mode": {
    "name": "ipython",
    "version": 3
   },
   "file_extension": ".py",
   "mimetype": "text/x-python",
   "name": "python",
   "nbconvert_exporter": "python",
   "pygments_lexer": "ipython3",
   "version": "3.6.10"
  }
 },
 "nbformat": 4,
 "nbformat_minor": 4
}
